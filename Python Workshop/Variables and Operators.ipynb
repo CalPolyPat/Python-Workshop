{
 "cells": [
  {
   "cell_type": "markdown",
   "metadata": {},
   "source": [
    "##Variables\n",
    "Variables are object that store data somewhere. Let's see an example."
   ]
  },
  {
   "cell_type": "code",
   "execution_count": 10,
   "metadata": {
    "collapsed": false
   },
   "outputs": [
    {
     "name": "stdout",
     "output_type": "stream",
     "text": [
      "45\n"
     ]
    }
   ],
   "source": [
    "a=45\n",
    "print(a)"
   ]
  },
  {
   "cell_type": "code",
   "execution_count": 11,
   "metadata": {
    "collapsed": false
   },
   "outputs": [
    {
     "name": "stdout",
     "output_type": "stream",
     "text": [
      "25\n"
     ]
    }
   ],
   "source": [
    "b=25\n",
    "print(b)"
   ]
  },
  {
   "cell_type": "markdown",
   "metadata": {},
   "source": [
    "Okay, neat. Can I only make variables that hold numbers?"
   ]
  },
  {
   "cell_type": "code",
   "execution_count": 12,
   "metadata": {
    "collapsed": false
   },
   "outputs": [
    {
     "name": "stdout",
     "output_type": "stream",
     "text": [
      "Hello Everybody!\n"
     ]
    }
   ],
   "source": [
    "x=\"Hello Everybody!\"\n",
    "print(x)"
   ]
  },
  {
   "cell_type": "code",
   "execution_count": 13,
   "metadata": {
    "collapsed": false
   },
   "outputs": [
    {
     "name": "stdout",
     "output_type": "stream",
     "text": [
      "True\n"
     ]
    }
   ],
   "source": [
    "Amiright=True\n",
    "print(Amiright)"
   ]
  },
  {
   "cell_type": "markdown",
   "metadata": {},
   "source": [
    "Wait a minute, the numerical variables above are only integers...can we use decimal points?"
   ]
  },
  {
   "cell_type": "code",
   "execution_count": 14,
   "metadata": {
    "collapsed": false
   },
   "outputs": [
    {
     "name": "stdout",
     "output_type": "stream",
     "text": [
      "0.54\n"
     ]
    }
   ],
   "source": [
    "fl = 0.54\n",
    "print(fl)"
   ]
  },
  {
   "cell_type": "markdown",
   "metadata": {},
   "source": [
    "Wow look at all those variables! What do I call them all?\n",
    "\n",
    "    Terminology\n",
    "    \n",
    "    Integer:Any whole number:42,2635\n",
    "    Float:Any number at all\n",
    "    String:Anything with letters in it\n",
    "    Boolean:Any True or False statement\n",
    "    \n",
    "These will become useful when you get an error and you are wondering what it means."
   ]
  },
  {
   "cell_type": "markdown",
   "metadata": {},
   "source": [
    "##Operators\n",
    "So now that we have these fandangled new variables, what can we do with them?\n",
    "\n",
    "Well, that's where operators come in handy. If you want to do arithmetic on two numerical variables or compare two variables, operators are how you do it. Let's see some examples."
   ]
  },
  {
   "cell_type": "code",
   "execution_count": 15,
   "metadata": {
    "collapsed": false
   },
   "outputs": [
    {
     "name": "stdout",
     "output_type": "stream",
     "text": [
      "45\n",
      "25\n",
      "70\n"
     ]
    }
   ],
   "source": [
    "print(a)\n",
    "print(b)\n",
    "c=a+b\n",
    "print(c)"
   ]
  },
  {
   "cell_type": "markdown",
   "metadata": {},
   "source": [
    "Note that our a and b didn't go away. Variables will stick around until you change them."
   ]
  },
  {
   "cell_type": "code",
   "execution_count": 16,
   "metadata": {
    "collapsed": false
   },
   "outputs": [
    {
     "name": "stdout",
     "output_type": "stream",
     "text": [
      "1.8\n",
      "46.8\n"
     ]
    }
   ],
   "source": [
    "c=a/b\n",
    "print(c)\n",
    "c=c+a\n",
    "print(c)"
   ]
  },
  {
   "cell_type": "markdown",
   "metadata": {},
   "source": [
    "We have the usual arithmetic operators, $+, -, /, *$. On top of that we also have the power operator, $**$, the modulo operator $\\%$ which returns the remainder from a quotient, the additive equality operator $+=$, and the equality operator, $=$. We also have the comparison operators; $>,<,==, !=, and, or$. Which mean, greater than, less than, is equal to, is not equal to, and, or."
   ]
  },
  {
   "cell_type": "code",
   "execution_count": 28,
   "metadata": {
    "collapsed": false
   },
   "outputs": [
    {
     "name": "stdout",
     "output_type": "stream",
     "text": [
      "4\n",
      "1.0\n",
      "6\n",
      "-6\n",
      "8\n",
      "3\n",
      "66\n",
      "True\n",
      "False\n",
      "False\n",
      "False\n",
      "True\n",
      "True\n"
     ]
    }
   ],
   "source": [
    "#addition\n",
    "print(2+2)\n",
    "#division or quotient\n",
    "print(42/42)\n",
    "#multiplication\n",
    "print(2*3)\n",
    "#subtraction\n",
    "print(2-8)\n",
    "#exponent or power\n",
    "print(2**3)\n",
    "#modulo or remainder\n",
    "print(10%7)\n",
    "#additive equality\n",
    "a=56\n",
    "a+=10\n",
    "print(a)\n",
    "#greater than\n",
    "print(10>5)\n",
    "#less than\n",
    "print(10<5)\n",
    "#is equal to\n",
    "print(11==10)\n",
    "#is not equal to\n",
    "print(10!=10)\n",
    "#and\n",
    "print(11==11 and 12>10)\n",
    "#or\n",
    "print(10==11 or 5<7)"
   ]
  },
  {
   "cell_type": "markdown",
   "metadata": {},
   "source": [
    "##Exercises\n",
    "1. Let a=5 and b=17634, compute a+b, a-b, a\\*b, a/b, b\\*\\*a, a\\*\\*b and a%b\n",
    "2. Write four Boolean statements(a>b and b<a). Two should be True and two should be False.\n",
    "3. Let a=4637 and b=8467. Is a\\*\\*b<b\\*\\*a? Is a%b**3==0?"
   ]
  },
  {
   "cell_type": "markdown",
   "metadata": {},
   "source": [
    "##Notes about Strings"
   ]
  },
  {
   "cell_type": "markdown",
   "metadata": {
    "collapsed": true
   },
   "source": [
    "Let's explore how a computer thinks about strings. Beginning with some natural ideas.\n",
    "1. Does the computer know how long a string is?\n",
    "2. What if you want only part of a string?\n",
    "3. What does it mean to add two strings?\n",
    "3. How does a computer \"see\" the string?"
   ]
  },
  {
   "cell_type": "code",
   "execution_count": 20,
   "metadata": {
    "collapsed": false
   },
   "outputs": [
    {
     "name": "stdout",
     "output_type": "stream",
     "text": [
      "4\n"
     ]
    }
   ],
   "source": [
    "string=\"hiya\"\n",
    "print(len(string))"
   ]
  },
  {
   "cell_type": "code",
   "execution_count": 21,
   "metadata": {
    "collapsed": false
   },
   "outputs": [
    {
     "name": "stdout",
     "output_type": "stream",
     "text": [
      "h\n"
     ]
    }
   ],
   "source": [
    "print(string[0])"
   ]
  },
  {
   "cell_type": "code",
   "execution_count": 25,
   "metadata": {
    "collapsed": false
   },
   "outputs": [
    {
     "name": "stdout",
     "output_type": "stream",
     "text": [
      "hiya there!\n"
     ]
    }
   ],
   "source": [
    "string1=\" there!\"\n",
    "print(string+string1)"
   ]
  },
  {
   "cell_type": "code",
   "execution_count": 26,
   "metadata": {
    "collapsed": false
   },
   "outputs": [
    {
     "ename": "TypeError",
     "evalue": "unsupported operand type(s) for -: 'str' and 'str'",
     "output_type": "error",
     "traceback": [
      "\u001b[1;31m---------------------------------------------------------------------------\u001b[0m",
      "\u001b[1;31mTypeError\u001b[0m                                 Traceback (most recent call last)",
      "\u001b[1;32m<ipython-input-26-0d4ad426fbe1>\u001b[0m in \u001b[0;36m<module>\u001b[1;34m()\u001b[0m\n\u001b[1;32m----> 1\u001b[1;33m \u001b[0mprint\u001b[0m\u001b[1;33m(\u001b[0m\u001b[0mstring\u001b[0m\u001b[1;33m-\u001b[0m\u001b[0mstring1\u001b[0m\u001b[1;33m)\u001b[0m\u001b[1;33m\u001b[0m\u001b[0m\n\u001b[0m",
      "\u001b[1;31mTypeError\u001b[0m: unsupported operand type(s) for -: 'str' and 'str'"
     ]
    }
   ],
   "source": [
    "print(string-string1)"
   ]
  },
  {
   "cell_type": "markdown",
   "metadata": {},
   "source": [
    "The computer sees the string as a list of individual letters. In the next section, we will discuss lists in a more general sense. In the previous example, we had two strings, \"heya\", and \" there!\". The computer sees \"heya\" as \n",
    "\n",
    "$$\\left[\"h\", \"e\", \"y\", \"a\"\\right]$$"
   ]
  },
  {
   "cell_type": "markdown",
   "metadata": {},
   "source": [
    "##Exercises\n",
    "1. Type out how the computer sees \" there!\"\n",
    "2. Construct the string, \"Python is the best!\" from three different strings."
   ]
  },
  {
   "cell_type": "code",
   "execution_count": null,
   "metadata": {
    "collapsed": true
   },
   "outputs": [],
   "source": []
  }
 ],
 "metadata": {
  "kernelspec": {
   "display_name": "Python 3",
   "language": "python",
   "name": "python3"
  },
  "language_info": {
   "codemirror_mode": {
    "name": "ipython",
    "version": 3
   },
   "file_extension": ".py",
   "mimetype": "text/x-python",
   "name": "python",
   "nbconvert_exporter": "python",
   "pygments_lexer": "ipython3",
   "version": "3.4.0"
  }
 },
 "nbformat": 4,
 "nbformat_minor": 0
}
