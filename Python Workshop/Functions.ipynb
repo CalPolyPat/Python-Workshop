{
 "cells": [
  {
   "cell_type": "markdown",
   "metadata": {},
   "source": [
    "##Functions\n",
    "Let's say that we have some code that does some task, but the code is 25 lines long, we need to run it over 1000 items and it doesn't work in a loop. How in the world will we handle this situation? That is where functions come in really handy. Functions are a generalized block of code that allow you to run code over and over while changing its parameters if you so choose. Functions may take **(arguments)** that you are allowed to change when you call the function. It may also **return** a value.\n",
    "\n",
    "A function must be defined before you can call it. To define a function, we use the following syntax:\n",
    "\n",
    "    def <function name>(arg0, arg1, arg3,...):\n",
    "        #code here must be indented.\n",
    "        #you can use arg0,...,argn within the function\n",
    "        #you can also return things\n",
    "        return 1\n",
    "        #This code returns 1 no matter what you tell the function\n",
    "        \n",
    "Functions can take as many arguments as you wish, but they may only return 1 thing. A simple example of a familiar function is any mathematical function. Take sin(x), it is a function that takes one argument x and returns one value based on the input. Let's get familiar with functions."
   ]
  },
  {
   "cell_type": "code",
   "execution_count": 4,
   "metadata": {
    "collapsed": false
   },
   "outputs": [
    {
     "name": "stdout",
     "output_type": "stream",
     "text": [
      "2\n",
      "25\n",
      "0\n",
      "1\n",
      "4\n",
      "9\n",
      "16\n",
      "25\n",
      "36\n",
      "49\n",
      "64\n",
      "81\n"
     ]
    }
   ],
   "source": [
    "def add1(x):\n",
    "    return x+1\n",
    "\n",
    "print(add1(1))\n",
    "\n",
    "def xsq(x):\n",
    "    return x**2\n",
    "\n",
    "print(xsq(5))\n",
    "\n",
    "for i in range(0,10):\n",
    "    print(xsq(i))"
   ]
  },
  {
   "cell_type": "markdown",
   "metadata": {},
   "source": [
    "The true power of functions is being able to call it as many times as we would like. In the previous example, we called the square function, xsq in a loop 10 times. Let's check out some more complicated examples."
   ]
  },
  {
   "cell_type": "code",
   "execution_count": 21,
   "metadata": {
    "collapsed": false
   },
   "outputs": [],
   "source": [
    "def removefs(data):\n",
    "    newdata=''\n",
    "    for d in data:\n",
    "        if(d==\"f\" or d==\"F\"):\n",
    "            pass\n",
    "        else:\n",
    "            newdata+=(d)\n",
    "    return newdata"
   ]
  },
  {
   "cell_type": "code",
   "execution_count": 22,
   "metadata": {
    "collapsed": false
   },
   "outputs": [
    {
     "name": "stdout",
     "output_type": "stream",
     "text": [
      "g\n"
     ]
    }
   ],
   "source": [
    "print(removefs('ffffffFFFFFg'))"
   ]
  },
  {
   "cell_type": "code",
   "execution_count": 23,
   "metadata": {
    "collapsed": false
   },
   "outputs": [
    {
     "name": "stdout",
     "output_type": "stream",
     "text": [
      "##unctions\n",
      "Let's say that we have some code that does some task, but the code is 25 lines long, we need to run it over 1000 items and it doesn't work in a loop. How in the world will we handle this situation? That is where unctions come in really handy. unctions are a generalized block o code that allow you to run code over and over while changing its parameters i you so choose. unctions may take **(arguments)** that you are allowed to change when you call the unction. It may also **return** a value.\n",
      "\n",
      "A unction must be deined beore you can call it. To deine a unction, we use the ollowing syntax:\n",
      "\n",
      "    de <unction name>(arg0, arg1, arg3,...):\n",
      "        #code here must be indented.\n",
      "        #you can use arg0,...,argn within the unction\n",
      "        #you can also return things\n",
      "        return 1\n",
      "        #This code returns 1 no matter what you tell the unction\n",
      "        \n",
      "unctions can take as many arguments as you wish, but they may only return 1 thing. A simple example o a amiliar unction is any mathematical unction. Take sin(x), it is a unction that takes one argument x and returns one value based on the input. Let's get amiliar with unctions.\"\n"
     ]
    }
   ],
   "source": [
    "intro='''##Functions\n",
    "Let's say that we have some code that does some task, but the code is 25 lines long, we need to run it over 1000 items and it doesn't work in a loop. How in the world will we handle this situation? That is where functions come in really handy. Functions are a generalized block of code that allow you to run code over and over while changing its parameters if you so choose. Functions may take **(arguments)** that you are allowed to change when you call the function. It may also **return** a value.\n",
    "\n",
    "A function must be defined before you can call it. To define a function, we use the following syntax:\n",
    "\n",
    "    def <function name>(arg0, arg1, arg3,...):\n",
    "        #code here must be indented.\n",
    "        #you can use arg0,...,argn within the function\n",
    "        #you can also return things\n",
    "        return 1\n",
    "        #This code returns 1 no matter what you tell the function\n",
    "        \n",
    "Functions can take as many arguments as you wish, but they may only return 1 thing. A simple example of a familiar function is any mathematical function. Take sin(x), it is a function that takes one argument x and returns one value based on the input. Let's get familiar with functions.\"'''\n",
    "print(removefs(intro))"
   ]
  },
  {
   "cell_type": "code",
   "execution_count": 24,
   "metadata": {
    "collapsed": true
   },
   "outputs": [],
   "source": [
    "def removevowels(data):\n",
    "    newdata = ''\n",
    "    for d in data:\n",
    "        if(d=='a' or d=='e' or d=='i' or d=='o' or d=='u' or d=='y'):\n",
    "            pass\n",
    "        else:\n",
    "            newdata+=d\n",
    "    return newdata"
   ]
  },
  {
   "cell_type": "code",
   "execution_count": 25,
   "metadata": {
    "collapsed": false
   },
   "outputs": [
    {
     "name": "stdout",
     "output_type": "stream",
     "text": [
      "##Fnctns\n",
      "Lt's s tht w hv sm cd tht ds sm tsk, bt th cd s 25 lns lng, w nd t rn t vr 1000 tms nd t dsn't wrk n  lp. Hw n th wrld wll w hndl ths sttn? Tht s whr fnctns cm n rll hnd. Fnctns r  gnrlzd blck f cd tht llw  t rn cd vr nd vr whl chngng ts prmtrs f  s chs. Fnctns m tk **(rgmnts)** tht  r llwd t chng whn  cll th fnctn. It m ls **rtrn**  vl.\n",
      "\n",
      "A fnctn mst b dfnd bfr  cn cll t. T dfn  fnctn, w s th fllwng sntx:\n",
      "\n",
      "    df <fnctn nm>(rg0, rg1, rg3,...):\n",
      "        #cd hr mst b ndntd.\n",
      "        # cn s rg0,...,rgn wthn th fnctn\n",
      "        # cn ls rtrn thngs\n",
      "        rtrn 1\n",
      "        #Ths cd rtrns 1 n mttr wht  tll th fnctn\n",
      "        \n",
      "Fnctns cn tk s mn rgmnts s  wsh, bt th m nl rtrn 1 thng. A smpl xmpl f  fmlr fnctn s n mthmtcl fnctn. Tk sn(x), t s  fnctn tht tks n rgmnt x nd rtrns n vl bsd n th npt. Lt's gt fmlr wth fnctns.\"\n"
     ]
    }
   ],
   "source": [
    "print(removevowels(intro))"
   ]
  },
  {
   "cell_type": "markdown",
   "metadata": {},
   "source": [
    "So clearly we can do some powerful things. Now let's see why these functions have significant power over loops."
   ]
  },
  {
   "cell_type": "code",
   "execution_count": 31,
   "metadata": {
    "collapsed": false
   },
   "outputs": [
    {
     "name": "stdout",
     "output_type": "stream",
     "text": [
      "1\n",
      "1\n",
      "1\n",
      "2\n",
      "3\n",
      "5\n",
      "8\n",
      "13\n",
      "21\n",
      "34\n",
      "55\n",
      "89\n",
      "144\n",
      "233\n",
      "377\n"
     ]
    }
   ],
   "source": [
    "def fib(n):\n",
    " a,b = 1,1\n",
    " for i in range(n-1):\n",
    "  a,b = b,a+b\n",
    " return a\n",
    "\n",
    "def printfib(n):\n",
    "    for i in range(0,n):\n",
    "        print(fib(i))\n",
    "\n",
    "printfib(15)"
   ]
  },
  {
   "cell_type": "markdown",
   "metadata": {},
   "source": [
    "Here, using loops within functions allows to generate the fibonacci sequence. We then write a function to print out the first n numbers."
   ]
  },
  {
   "cell_type": "markdown",
   "metadata": {},
   "source": [
    "##Exercises\n",
    "1. Write a function that takes two arguments and returns a value that uses the arguments.\n",
    "2. Write a power function. It should take two arguments and returns the first argument to the power of the second argument.\n",
    "\n",
    "3. is a semi-guided exercise. If you are stumped ask for help.\n",
    "\n",
    "3a. Write a function that takes the cost of a dinner as an argument and returns the cost after a .075% sales tax is added.\n",
    "\n",
    "3b. Write a function that takes the cost of a dinner and tax and adds a 20% tip to the total, then returns the total.\n",
    "\n",
    "3c. Write a function that takes a list of food names(choose them yourself) as an argument and returns the cost of purchasing all those items.\n",
    "\n",
    "3d. Write a function that takes a list of food names as an argument and returns the total cost of having a meal including tax and tip.\n",
    "\n",
    "4 . In the next cell is a 1000-digit number, write a function to solve Project Euler #8 https://projecteuler.net/problem=8"
   ]
  },
  {
   "cell_type": "code",
   "execution_count": 44,
   "metadata": {
    "collapsed": false
   },
   "outputs": [],
   "source": [
    "thoudigits = 7316717653133062491922511967442657474235534919493496983520312774506326239578318016984801869478851843858615607891129494954595017379583319528532088055111254069874715852386305071569329096329522744304355766896648950445244523161731856403098711121722383113622298934233803081353362766142828064444866452387493035890729629049156044077239071381051585930796086670172427121883998797908792274921901699720888093776657273330010533678812202354218097512545405947522435258490771167055601360483958644670632441572215539753697817977846174064955149290862569321978468622482839722413756570560574902614079729686524145351004748216637048440319989000889524345065854122758866688116427171479924442928230863465674813919123162824586178664583591245665294765456828489128831426076900422421902267105562632111110937054421750694165896040807198403850962455444362981230987879927244284909188845801561660979191338754992005240636899125607176060588611646710940507754100225698315520005593572972571636269561882670428252483600823257530420752963450\n"
   ]
  },
  {
   "cell_type": "markdown",
   "metadata": {},
   "source": [
    "##Lambda\n",
    "Next we will look at a special type of function called a lambda. A lambda is a single line, single expression function. It is perfect for evaluating mathematical expressions like x^2 and e^sin(x^cos(x)). To write a lambda function, we use the following syntax:\n",
    "\n",
    "    func = lambda <args>:<expression>\n",
    "    \n",
    "for example:\n",
    "\n",
    "    xsq = lambda x:x**2\n",
    "    xsq(4) #returns 16\n",
    "\n",
    "Lambdas will return the result of the expression. Let's check it out."
   ]
  },
  {
   "cell_type": "code",
   "execution_count": 54,
   "metadata": {
    "collapsed": false
   },
   "outputs": [
    {
     "data": {
      "text/plain": [
       "[<matplotlib.lines.Line2D at 0x7f27abb6d8d0>]"
      ]
     },
     "execution_count": 54,
     "metadata": {},
     "output_type": "execute_result"
    },
    {
     "data": {
      "image/png": "[encoded data removed]",
      "text/plain": [
       "<matplotlib.figure.Figure at 0x7f27abd91d30>"
      ]
     },
     "metadata": {},
     "output_type": "display_data"
    }
   ],
   "source": [
    "import numpy as np\n",
    "import matplotlib.pyplot as plt\n",
    "%matplotlib inline\n",
    "#^^^Some junk we will learn later^^^\n",
    "\n",
    "func = lambda x:np.exp(np.sin(x**np.cos(x)))\n",
    "#^^^The important part^^^\n",
    "\n",
    "plt.plot(np.linspace(0,10,1000), func(np.linspace(0,10,1000)))\n",
    "#^^^We will learn this next^^^"
   ]
  },
  {
   "cell_type": "markdown",
   "metadata": {},
   "source": [
    "##Exercises\n",
    "\n",
    "1. Write a lambda for x^n where x and n are arguments.\n",
    "\n",
    "2. Write a function that removes all instances of the letters \"p\", \"h\", \"y\", \"s\", \"i\", \"c\", \"s\" from any string. Then prints the new string out.\n",
    "\n",
    "3. Write a function that does the same thing as **in**, that is, write a function that takes two arguments, a variable and a list and check if the variable is in the list. If it is, return True, otherwise, return False.\n",
    "\n",
    "4. The factorial function takes a number n and returns the product n\\*(n-1)\\*(n-2)... Write this function.\n",
    "\n",
    "5. If you want to retrieve the 4th digit of a number, first convert it to a string using the str() command, then take the value at index [3]. Using this information and your factorial function from 4. solve Project Euler #20 https://projecteuler.net/problem=20."
   ]
  },
  {
   "cell_type": "code",
   "execution_count": null,
   "metadata": {
    "collapsed": true
   },
   "outputs": [],
   "source": []
  }
 ],
 "metadata": {
  "kernelspec": {
   "display_name": "Python 3",
   "language": "python",
   "name": "python3"
  },
  "language_info": {
   "codemirror_mode": {
    "name": "ipython",
    "version": 3
   },
   "file_extension": ".py",
   "mimetype": "text/x-python",
   "name": "python",
   "nbconvert_exporter": "python",
   "pygments_lexer": "ipython3",
   "version": "3.4.0"
  }
 },
 "nbformat": 4,
 "nbformat_minor": 0
}
