{
 "cells": [
  {
   "cell_type": "markdown",
   "metadata": {},
   "source": [
    "#Python by Pat\n",
    "\n",
    "Python is a wonderful language that is useful for many applications from strictly computer science and data proccesing to physics research, as we will see today. This notebook provides a short outline of the topics I hope to cover today."
   ]
  },
  {
   "cell_type": "markdown",
   "metadata": {},
   "source": [
    "##What is Python and how the heck do I use it\n",
    "We will cover the basics of how Python works and how the heck you use it!\n",
    "##Variables\n",
    "These spooky objects will help us store information. We will learn to control them to do our bidding.\n",
    "##Operators\n",
    "These will come in handy when we need to compare two different variables.(A thing we do a lot)\n",
    "##Containers\n",
    "We will use these like a wall of cubbies organized in various ways to store variables together in a meaningful way.\n",
    "##Logic\n",
    "This is the meat of most programs. We will learn about how to make the computer make decisions and do things repeatedly.\n",
    "##Functions\n",
    "Functions allow us to wrap up some task into a nice package and use it over and over with ease.\n",
    "##NumPy\n",
    "NumPy is an add-on library that allows us more freedom with our containers and gives us extra tools for things like linear algebra.\n",
    "##MatPlotLib\n",
    "We would like to graph things and represent results visually sometimes. We can do just this with MatPlotLib, another add-on.\n",
    "##SciPy\n",
    "We are all scientists here. Someone came along and said, \"What if we made Python Scientific?\" And so was born SciPy and add-on that gives us quite a few data analysis tools, of which we will learn a couple.\n",
    "##iPython(Jupyter) Widgets and Visual Numerical Analysis\n",
    "What if I just vary $\\zeta$ or $\\phi$. We will cover creating visualisations and controlling parameters while updating the visualisation.\n",
    "##General Pythonic Methods\n",
    "What is debugging and how do I do it effectively. (AKA, what in the heck is wrong with my code?) Proper googling. How to begin a program if you aren't sure what to do."
   ]
  },
  {
   "cell_type": "code",
   "execution_count": 16,
   "metadata": {
    "collapsed": false
   },
   "outputs": [
    {
     "data": {
      "image/png": "[encoded data removed]",
      "text/plain": [
       "<matplotlib.figure.Figure at 0x7f298c064f98>"
      ]
     },
     "metadata": {},
     "output_type": "display_data"
    }
   ],
   "source": [
    "import matplotlib.pyplot as plt\n",
    "import numpy as np\n",
    "import IPython.html.widgets as widge\n",
    "%matplotlib inline\n",
    "def CoolExample(a, b, c):\n",
    "    x=np.linspace(-1,1,1000)\n",
    "    plt.plot(x,a*np.exp(b*x)+np.sinc(c*x**4/3))\n",
    "widge.interact(CoolExample, a=(1,100,1), b=(-5,5,.1), c=(-24, 24,.1))"
   ]
  },
  {
   "cell_type": "code",
   "execution_count": null,
   "metadata": {
    "collapsed": true
   },
   "outputs": [],
   "source": []
  }
 ],
 "metadata": {
  "kernelspec": {
   "display_name": "Python 3",
   "language": "python",
   "name": "python3"
  },
  "language_info": {
   "codemirror_mode": {
    "name": "ipython",
    "version": 3
   },
   "file_extension": ".py",
   "mimetype": "text/x-python",
   "name": "python",
   "nbconvert_exporter": "python",
   "pygments_lexer": "ipython3",
   "version": "3.4.0"
  }
 },
 "nbformat": 4,
 "nbformat_minor": 0
}
