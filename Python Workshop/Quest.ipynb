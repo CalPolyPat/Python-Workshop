{
 "cells": [
  {
   "cell_type": "markdown",
   "metadata": {},
   "source": [
    "#Quest!\n",
    "Now that we have amassed all the tools we need, we are going to make a video game! Now, it won't be a next-gen console game with lifelike graphics, we will be making a text based adventure game. First, we need one more tool. We want to take input from our player if we want them to stay interested in the game. We do this with the **input()** command. If we put something inside the parentheses, that will be our prompt."
   ]
  },
  {
   "cell_type": "code",
   "execution_count": 4,
   "metadata": {
    "collapsed": false
   },
   "outputs": [
    {
     "name": "stdout",
     "output_type": "stream",
     "text": [
      "Input something please Well, ok\n"
     ]
    }
   ],
   "source": [
    "x = input(\"Input something please \")"
   ]
  },
  {
   "cell_type": "code",
   "execution_count": 5,
   "metadata": {
    "collapsed": false
   },
   "outputs": [
    {
     "name": "stdout",
     "output_type": "stream",
     "text": [
      "Well, ok\n"
     ]
    }
   ],
   "source": [
    "print(x)"
   ]
  },
  {
   "cell_type": "markdown",
   "metadata": {},
   "source": [
    "Let's get started on our game! The first thing any good hero needs is an inventory. Let's give them one."
   ]
  },
  {
   "cell_type": "code",
   "execution_count": null,
   "metadata": {
    "collapsed": true
   },
   "outputs": [],
   "source": []
  },
  {
   "cell_type": "markdown",
   "metadata": {},
   "source": [
    "Good! It's empty for now, but I am sure our hero will come across some items soon. Let's give our hero some base information like name, age, health, damage, gold, etc. Choose whatever you think will be important in your game. Remember, we can ask the user for input on some of these."
   ]
  },
  {
   "cell_type": "code",
   "execution_count": null,
   "metadata": {
    "collapsed": true
   },
   "outputs": [],
   "source": []
  },
  {
   "cell_type": "markdown",
   "metadata": {},
   "source": [
    "Okay, so our hero exists and is ready for action. We ought to keep track of where he is, let's define a location for them to start at, perhaps a town. We can update this as the hero moves from place to place. "
   ]
  },
  {
   "cell_type": "code",
   "execution_count": null,
   "metadata": {
    "collapsed": true
   },
   "outputs": [],
   "source": []
  },
  {
   "cell_type": "markdown",
   "metadata": {},
   "source": [
    "Looks like we are ready to start the adventure. Let's give some options for our hero to choose from and ask for some input. Then let's check **if** our hero chose one of the acceptable optons. We can check where our hero is and update the options accordingly. Let's loop over and over **while** we are still in town."
   ]
  },
  {
   "cell_type": "code",
   "execution_count": null,
   "metadata": {
    "collapsed": true
   },
   "outputs": [],
   "source": []
  },
  {
   "cell_type": "markdown",
   "metadata": {},
   "source": [
    "Maybe now that we have explored the town, we can move on to our quest! As our hero moves from place to place, we can inspire some conflict and use while loops to fight some monster until either of us dies."
   ]
  },
  {
   "cell_type": "code",
   "execution_count": null,
   "metadata": {
    "collapsed": true
   },
   "outputs": [],
   "source": []
  },
  {
   "cell_type": "markdown",
   "metadata": {},
   "source": [
    "So now we can loop over and over until we decide the hero has \"won\". Have fun with this and explore different ways to use what we have learned to keep track of our hero."
   ]
  },
  {
   "cell_type": "code",
   "execution_count": null,
   "metadata": {
    "collapsed": true
   },
   "outputs": [],
   "source": []
  }
 ],
 "metadata": {
  "kernelspec": {
   "display_name": "Python 3",
   "language": "python",
   "name": "python3"
  },
  "language_info": {
   "codemirror_mode": {
    "name": "ipython",
    "version": 3
   },
   "file_extension": ".py",
   "mimetype": "text/x-python",
   "name": "python",
   "nbconvert_exporter": "python",
   "pygments_lexer": "ipython3",
   "version": "3.4.0"
  }
 },
 "nbformat": 4,
 "nbformat_minor": 0
}
